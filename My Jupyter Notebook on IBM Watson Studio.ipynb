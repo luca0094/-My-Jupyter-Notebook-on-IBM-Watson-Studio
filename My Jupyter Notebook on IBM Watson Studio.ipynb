{
 "cells": [
  {
   "cell_type": "markdown",
   "id": "b9cb9a85",
   "metadata": {},
   "source": [
    "# My Jupyter Notebook on IBM Watson Studio\n"
   ]
  },
  {
   "cell_type": "markdown",
   "id": "4ec93464",
   "metadata": {},
   "source": [
    "**luca** student"
   ]
  },
  {
   "cell_type": "markdown",
   "id": "fc93f266",
   "metadata": {},
   "source": [
    "*I am interested in data science because i think is a good opportunity for my future*"
   ]
  },
  {
   "cell_type": "markdown",
   "id": "f2d22988",
   "metadata": {},
   "source": [
    "###  my code greets coursera students "
   ]
  },
  {
   "cell_type": "code",
   "execution_count": 5,
   "id": "a168a51e",
   "metadata": {},
   "outputs": [
    {
     "name": "stdout",
     "output_type": "stream",
     "text": [
      "hello Coursera student\n"
     ]
    }
   ],
   "source": [
    "print(\"hello Coursera student\")\n"
   ]
  },
  {
   "cell_type": "markdown",
   "id": "fb7b994f",
   "metadata": {},
   "source": [
    "---\n",
    "1. try 1\n",
    "2. try 2\n",
    "3. try 3\n",
    "\n",
    "\n",
    "- try 1\n",
    "* try 2\n",
    "---"
   ]
  },
  {
   "cell_type": "code",
   "execution_count": null,
   "id": "f7c12093",
   "metadata": {},
   "outputs": [],
   "source": []
  }
 ],
 "metadata": {
  "kernelspec": {
   "display_name": "Python 3 (ipykernel)",
   "language": "python",
   "name": "python3"
  },
  "language_info": {
   "codemirror_mode": {
    "name": "ipython",
    "version": 3
   },
   "file_extension": ".py",
   "mimetype": "text/x-python",
   "name": "python",
   "nbconvert_exporter": "python",
   "pygments_lexer": "ipython3",
   "version": "3.9.7"
  }
 },
 "nbformat": 4,
 "nbformat_minor": 5
}
